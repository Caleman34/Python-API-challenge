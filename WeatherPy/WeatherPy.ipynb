{
 "cells": [
  {
   "cell_type": "code",
   "execution_count": 159,
   "metadata": {},
   "outputs": [],
   "source": [
    "# dependencies\n",
    "%matplotlib inline\n",
    "import os\n",
    "import matplotlib.pyplot as plt\n",
    "import numpy as np\n",
    "import json\n",
    "import requests\n",
    "import pandas as pd\n",
    "import time\n",
    "from scipy.stats import linregress\n",
    "\n",
    "#import api key\n",
    "from config import weather_api_key\n",
    "\n",
    "#import citipy\n",
    "from citipy import citipy"
   ]
  },
  {
   "cell_type": "code",
   "execution_count": 160,
   "metadata": {},
   "outputs": [],
   "source": [
    "# Set up lists to hold response info\n",
    "cities = []\n",
    "lat_lngs = []\n",
    "\n",
    "# Range of latitudes and longitudes\n",
    "lat_range = (-90, 90)\n",
    "lng_range = (-180, 180)"
   ]
  },
  {
   "cell_type": "code",
   "execution_count": 49,
   "metadata": {},
   "outputs": [
    {
     "data": {
      "text/plain": [
       "606"
      ]
     },
     "execution_count": 49,
     "metadata": {},
     "output_type": "execute_result"
    }
   ],
   "source": [
    "# List for holding lat_lngs and cities\n",
    "lat_lngs = []\n",
    "cities = []\n",
    "\n",
    "# Create a set of random lat and lng combinations\n",
    "lats = np.random.uniform(low=-90.000, high=90.000, size=1500)\n",
    "lngs = np.random.uniform(low=-180.000, high=180.000, size=1500)\n",
    "lat_lngs = zip(lats, lngs)\n",
    "\n",
    "# Identify nearest city for each lat, lng combination\n",
    "for lat_lng in lat_lngs:\n",
    "    city = citipy.nearest_city(lat_lng[0], lat_lng[1]).city_name\n",
    "    \n",
    "    # If the city is unique, then add it to a our cities list\n",
    "    if city not in cities:\n",
    "        cities.append(city)\n",
    "\n",
    "# Confirm sufficient city count\n",
    "len(cities)"
   ]
  },
  {
   "cell_type": "code",
   "execution_count": 50,
   "metadata": {},
   "outputs": [],
   "source": [
    "units = 'imperial'\n",
    "# build query url\n",
    "query_url = f\"http://api.openweathermap.org/data/2.5/weather?appid={weather_api_key}&units={units}&q=\""
   ]
  },
  {
   "cell_type": "code",
   "execution_count": 53,
   "metadata": {
    "collapsed": true,
    "jupyter": {
     "outputs_hidden": true
    }
   },
   "outputs": [
    {
     "name": "stdout",
     "output_type": "stream",
     "text": [
      "1: Appending weather data for new norfolk\n",
      "2: Appending weather data for comodoro rivadavia\n",
      "3: Appending weather data for kang\n",
      "4: Appending weather data for goma\n",
      "5: Appending weather data for bengkulu\n",
      "6: Appending weather data for kapaa\n",
      "7: Appending weather data for port-gentil\n",
      "8: Appending weather data for ambanja\n",
      "9: Appending weather data for albany\n",
      "----Records not found for kuche----\n",
      "10: Appending weather data for tasiilaq\n",
      "11: Appending weather data for puerto ayora\n",
      "12: Appending weather data for vaini\n",
      "13: Appending weather data for visby\n",
      "14: Appending weather data for shingu\n",
      "15: Appending weather data for muli\n",
      "----Records not found for barentsburg----\n",
      "16: Appending weather data for pevek\n",
      "17: Appending weather data for lompoc\n",
      "18: Appending weather data for mabaruma\n",
      "19: Appending weather data for matehuala\n",
      "20: Appending weather data for cape town\n",
      "----Records not found for nizhneyansk----\n",
      "----Records not found for angra----\n",
      "21: Appending weather data for kavaratti\n",
      "22: Appending weather data for omaruru\n",
      "23: Appending weather data for rocha\n",
      "24: Appending weather data for broken hill\n",
      "25: Appending weather data for beringovskiy\n",
      "26: Appending weather data for chokurdakh\n",
      "27: Appending weather data for hithadhoo\n",
      "28: Appending weather data for hobart\n",
      "29: Appending weather data for bilibino\n",
      "30: Appending weather data for clyde river\n",
      "31: Appending weather data for rikitea\n",
      "32: Appending weather data for soyo\n",
      "33: Appending weather data for havelock\n",
      "34: Appending weather data for ushuaia\n",
      "35: Appending weather data for qaanaaq\n",
      "36: Appending weather data for yakima\n",
      "37: Appending weather data for henties bay\n",
      "38: Appending weather data for barrow\n",
      "39: Appending weather data for souillac\n",
      "40: Appending weather data for kodiak\n",
      "41: Appending weather data for norman wells\n",
      "42: Appending weather data for hermanus\n",
      "43: Appending weather data for san julian\n",
      "44: Appending weather data for kangasala\n",
      "45: Appending weather data for tabou\n",
      "46: Appending weather data for khani\n",
      "47: Appending weather data for jalu\n",
      "48: Appending weather data for yellowknife\n",
      "49: Appending weather data for lasa\n",
      "50: Appending weather data for punta arenas\n",
      "51: Appending weather data for kaitangata\n",
      "52: Appending weather data for mar del plata\n",
      "53: Appending weather data for itaobim\n",
      "----Records not found for yanchukan----\n",
      "54: Appending weather data for esperance\n",
      "----Records not found for taolanaro----\n",
      "55: Appending weather data for ilulissat\n",
      "56: Appending weather data for glendive\n",
      "57: Appending weather data for dongsheng\n",
      "58: Appending weather data for talnakh\n",
      "59: Appending weather data for virbalis\n",
      "60: Appending weather data for manokwari\n",
      "61: Appending weather data for saskylakh\n",
      "62: Appending weather data for vysokogornyy\n",
      "63: Appending weather data for bluff\n",
      "64: Appending weather data for half moon bay\n",
      "65: Appending weather data for ribeira grande\n",
      "66: Appending weather data for benguela\n",
      "67: Appending weather data for hasaki\n",
      "68: Appending weather data for victoria\n",
      "69: Appending weather data for saldanha\n",
      "70: Appending weather data for east london\n",
      "71: Appending weather data for buta\n",
      "72: Appending weather data for longyearbyen\n",
      "73: Appending weather data for xiongzhou\n",
      "74: Appending weather data for nanortalik\n",
      "75: Appending weather data for awjilah\n",
      "76: Appending weather data for tuktoyaktuk\n",
      "77: Appending weather data for nova granada\n",
      "78: Appending weather data for araouane\n",
      "79: Appending weather data for sao joao da barra\n",
      "----Records not found for tumannyy----\n",
      "80: Appending weather data for mezhdurechensk\n",
      "81: Appending weather data for saint george\n",
      "82: Appending weather data for nanyamba\n",
      "83: Appending weather data for jieshi\n",
      "84: Appending weather data for ust-shonosha\n",
      "85: Appending weather data for vardo\n",
      "86: Appending weather data for xingyi\n",
      "87: Appending weather data for faanui\n",
      "88: Appending weather data for saint-philippe\n",
      "89: Appending weather data for provideniya\n",
      "90: Appending weather data for urumqi\n",
      "91: Appending weather data for airai\n",
      "----Records not found for illoqqortoormiut----\n",
      "92: Appending weather data for nishihara\n",
      "93: Appending weather data for mut\n",
      "94: Appending weather data for atuona\n",
      "95: Appending weather data for manta\n",
      "96: Appending weather data for bredasdorp\n",
      "97: Appending weather data for sarlat-la-caneda\n",
      "98: Appending weather data for butaritari\n",
      "99: Appending weather data for port alfred\n",
      "100: Appending weather data for kenora\n",
      "101: Appending weather data for saint-pierre\n",
      "102: Appending weather data for busselton\n",
      "103: Appending weather data for muroto\n",
      "104: Appending weather data for el higo\n",
      "105: Appending weather data for pierre\n",
      "----Records not found for amderma----\n",
      "106: Appending weather data for grindavik\n",
      "107: Appending weather data for mandalgovi\n",
      "108: Appending weather data for reda\n",
      "109: Appending weather data for jamestown\n",
      "----Records not found for belushya guba----\n",
      "110: Appending weather data for vuktyl\n",
      "111: Appending weather data for ca mau\n",
      "112: Appending weather data for port elizabeth\n",
      "113: Appending weather data for lagoa\n",
      "114: Appending weather data for stornoway\n",
      "115: Appending weather data for juneau\n",
      "116: Appending weather data for tabuleiro do norte\n",
      "117: Appending weather data for mataura\n",
      "118: Appending weather data for nirmal\n",
      "119: Appending weather data for oussouye\n",
      "----Records not found for tubruq----\n",
      "120: Appending weather data for kupang\n",
      "121: Appending weather data for novoagansk\n",
      "122: Appending weather data for champerico\n",
      "123: Appending weather data for kamenka\n",
      "----Records not found for opobo----\n",
      "124: Appending weather data for krasnaya poyma\n",
      "125: Appending weather data for arraial do cabo\n",
      "126: Appending weather data for waddan\n",
      "127: Appending weather data for lebedinyy\n",
      "128: Appending weather data for yambio\n",
      "129: Appending weather data for chuy\n",
      "130: Appending weather data for avarua\n",
      "131: Appending weather data for aktyubinskiy\n",
      "132: Appending weather data for sorland\n",
      "133: Appending weather data for yumen\n",
      "----Records not found for tillabery----\n",
      "134: Appending weather data for felanitx\n",
      "135: Appending weather data for opuwo\n",
      "136: Appending weather data for palia kalan\n",
      "----Records not found for lolua----\n",
      "137: Appending weather data for ketchikan\n",
      "138: Appending weather data for uribia\n",
      "139: Appending weather data for prince rupert\n",
      "----Records not found for bababe----\n",
      "140: Appending weather data for port lincoln\n",
      "141: Appending weather data for honningsvag\n",
      "142: Appending weather data for sept-iles\n",
      "143: Appending weather data for nouadhibou\n",
      "144: Appending weather data for nikolskoye\n",
      "----Records not found for karauzyak----\n",
      "145: Appending weather data for georgetown\n",
      "146: Appending weather data for port hedland\n",
      "147: Appending weather data for hilo\n",
      "148: Appending weather data for husavik\n",
      "149: Appending weather data for mtimbira\n",
      "150: Appending weather data for pimentel\n",
      "151: Appending weather data for zhigansk\n",
      "152: Appending weather data for oranjemund\n",
      "----Records not found for grand river south east----\n",
      "153: Appending weather data for santiago del estero\n",
      "154: Appending weather data for olafsvik\n",
      "155: Appending weather data for saint-francois\n",
      "156: Appending weather data for corinto\n",
      "157: Appending weather data for zhezkazgan\n",
      "158: Appending weather data for vila\n",
      "159: Appending weather data for yulara\n",
      "160: Appending weather data for bagdarin\n",
      "----Records not found for saleaula----\n",
      "161: Appending weather data for benghazi\n",
      "162: Appending weather data for torbay\n",
      "163: Appending weather data for senador jose porfirio\n",
      "164: Appending weather data for cidreira\n",
      "165: Appending weather data for ancud\n",
      "166: Appending weather data for cherskiy\n",
      "----Records not found for vaitupu----\n",
      "167: Appending weather data for chupa\n",
      "168: Appending weather data for dunedin\n",
      "169: Appending weather data for adre\n",
      "----Records not found for attawapiskat----\n",
      "170: Appending weather data for khatanga\n",
      "----Records not found for tsihombe----\n",
      "171: Appending weather data for chastyye\n",
      "172: Appending weather data for mahebourg\n",
      "173: Appending weather data for coquimbo\n",
      "174: Appending weather data for harper\n",
      "175: Appending weather data for ponta do sol\n",
      "176: Appending weather data for hashtrud\n",
      "177: Appending weather data for srednekolymsk\n",
      "178: Appending weather data for inhapim\n",
      "179: Appending weather data for roebourne\n",
      "180: Appending weather data for umm lajj\n",
      "181: Appending weather data for pangody\n",
      "182: Appending weather data for rafaela\n",
      "183: Appending weather data for abong mbang\n",
      "184: Appending weather data for independence\n",
      "185: Appending weather data for vigrestad\n",
      "186: Appending weather data for shemonaikha\n",
      "187: Appending weather data for humboldt\n",
      "188: Appending weather data for galle\n",
      "189: Appending weather data for santa lucia\n",
      "190: Appending weather data for sakakah\n",
      "191: Appending weather data for dikson\n",
      "192: Appending weather data for berlevag\n",
      "----Records not found for satitoa----\n",
      "193: Appending weather data for sitka\n",
      "194: Appending weather data for leningradskiy\n",
      "----Records not found for samusu----\n",
      "195: Appending weather data for maniitsoq\n",
      "196: Appending weather data for broome\n",
      "197: Appending weather data for arbazh\n",
      "198: Appending weather data for luderitz\n",
      "199: Appending weather data for naze\n",
      "200: Appending weather data for lavrentiya\n",
      "201: Appending weather data for yoichi\n",
      "202: Appending weather data for sorrento\n",
      "203: Appending weather data for zagare\n",
      "204: Appending weather data for tuy hoa\n",
      "205: Appending weather data for vernon\n",
      "206: Appending weather data for griffith\n",
      "207: Appending weather data for gornopravdinsk\n",
      "----Records not found for abu jubayhah----\n",
      "208: Appending weather data for hambantota\n",
      "209: Appending weather data for leh\n",
      "210: Appending weather data for washington\n",
      "211: Appending weather data for baykit\n",
      "212: Appending weather data for loikaw\n",
      "213: Appending weather data for santa catarina de tepehuanes\n",
      "214: Appending weather data for murdochville\n",
      "215: Appending weather data for omboue\n",
      "216: Appending weather data for kiunga\n",
      "217: Appending weather data for baisha\n",
      "218: Appending weather data for idlib\n",
      "219: Appending weather data for de-kastri\n",
      "220: Appending weather data for papara\n",
      "221: Appending weather data for mount gambier\n",
      "222: Appending weather data for cairns\n",
      "223: Appending weather data for vestmannaeyjar\n",
      "224: Appending weather data for guerrero negro\n",
      "225: Appending weather data for dingle\n",
      "226: Appending weather data for kremenchuk\n",
      "227: Appending weather data for codrington\n",
      "228: Appending weather data for samarai\n",
      "229: Appending weather data for aklavik\n",
      "230: Appending weather data for lonar\n",
      "231: Appending weather data for barao de melgaco\n",
      "232: Appending weather data for bosaso\n",
      "233: Appending weather data for sisimiut\n",
      "234: Appending weather data for tessalit\n",
      "235: Appending weather data for pacific grove\n",
      "236: Appending weather data for maningrida\n",
      "237: Appending weather data for bethel\n",
      "238: Appending weather data for road town\n",
      "239: Appending weather data for anadyr\n",
      "240: Appending weather data for ferrol\n",
      "241: Appending weather data for magomeni\n",
      "242: Appending weather data for laguna\n",
      "243: Appending weather data for alice springs\n",
      "244: Appending weather data for marsh harbour\n",
      "245: Appending weather data for avera\n",
      "246: Appending weather data for zacualpan\n",
      "247: Appending weather data for sirjan\n",
      "248: Appending weather data for labuhan\n",
      "249: Appending weather data for naberera\n",
      "250: Appending weather data for athmallik\n",
      "----Records not found for bacuit----\n",
      "251: Appending weather data for munkebo\n",
      "252: Appending weather data for vestmanna\n",
      "253: Appending weather data for sao filipe\n",
      "254: Appending weather data for zaria\n",
      "255: Appending weather data for praia da vitoria\n",
      "256: Appending weather data for sinnamary\n",
      "257: Appending weather data for kalanguy\n",
      "258: Appending weather data for batagay\n",
      "259: Appending weather data for langsa\n",
      "260: Appending weather data for banon\n",
      "261: Appending weather data for vila velha\n",
      "----Records not found for ust-kamchatsk----\n",
      "----Records not found for sogdiondon----\n",
      "----Records not found for vastervik----\n",
      "262: Appending weather data for keffi\n",
      "263: Appending weather data for havre-saint-pierre\n",
      "264: Appending weather data for manzhouli\n",
      "265: Appending weather data for sorkjosen\n",
      "266: Appending weather data for daru\n",
      "267: Appending weather data for kudahuvadhoo\n",
      "268: Appending weather data for mitsamiouli\n",
      "269: Appending weather data for cabo san lucas\n",
      "270: Appending weather data for puerto maldonado\n",
      "271: Appending weather data for ucluelet\n",
      "272: Appending weather data for hobyo\n",
      "273: Appending weather data for churapcha\n",
      "----Records not found for kadykchan----\n",
      "274: Appending weather data for amapa\n",
      "275: Appending weather data for carnarvon\n",
      "276: Appending weather data for deniliquin\n",
      "277: Appending weather data for solnechnyy\n",
      "278: Appending weather data for caruray\n",
      "279: Appending weather data for omsukchan\n",
      "280: Appending weather data for macomb\n",
      "281: Appending weather data for novozybkov\n",
      "282: Appending weather data for katsuura\n",
      "283: Appending weather data for bilma\n",
      "284: Appending weather data for nemuro\n",
      "285: Appending weather data for lata\n",
      "286: Appending weather data for berbera\n",
      "287: Appending weather data for cabra\n",
      "288: Appending weather data for itoman\n",
      "289: Appending weather data for upernavik\n",
      "290: Appending weather data for klaksvik\n",
      "291: Appending weather data for ternate\n",
      "292: Appending weather data for lorengau\n",
      "293: Appending weather data for paita\n",
      "294: Appending weather data for evensk\n",
      "295: Appending weather data for mortka\n",
      "296: Appending weather data for ahipara\n",
      "297: Appending weather data for bonnyville\n",
      "298: Appending weather data for redcliffe\n",
      "299: Appending weather data for mahajanga\n",
      "300: Appending weather data for darhan\n",
      "301: Appending weather data for ayr\n",
      "----Records not found for karaul----\n",
      "302: Appending weather data for lebu\n",
      "303: Appending weather data for lowestoft\n",
      "304: Appending weather data for kavieng\n",
      "305: Appending weather data for tukrah\n",
      "306: Appending weather data for san patricio\n",
      "307: Appending weather data for bahir dar\n",
      "308: Appending weather data for dwarka\n",
      "309: Appending weather data for thompson\n",
      "310: Appending weather data for goderich\n",
      "311: Appending weather data for channel-port aux basques\n",
      "312: Appending weather data for salinopolis\n",
      "313: Appending weather data for akdepe\n",
      "314: Appending weather data for castro\n",
      "----Records not found for pokrovsk-uralskiy----\n",
      "315: Appending weather data for rio grande\n",
      "316: Appending weather data for golaghat\n",
      "317: Appending weather data for blackpool\n",
      "318: Appending weather data for vanimo\n",
      "319: Appending weather data for isangel\n",
      "320: Appending weather data for yar-sale\n",
      "321: Appending weather data for high rock\n",
      "322: Appending weather data for murgab\n",
      "323: Appending weather data for mayor pablo lagerenza\n",
      "----Records not found for mahadday weyne----\n",
      "324: Appending weather data for fugen\n",
      "325: Appending weather data for verkh-usugli\n",
      "326: Appending weather data for tiksi\n",
      "327: Appending weather data for arandis\n",
      "328: Appending weather data for slave lake\n",
      "329: Appending weather data for breytovo\n",
      "330: Appending weather data for kamaishi\n",
      "331: Appending weather data for paamiut\n",
      "332: Appending weather data for hami\n",
      "333: Appending weather data for fortuna\n",
      "334: Appending weather data for biak\n",
      "335: Appending weather data for fort saint james\n",
      "336: Appending weather data for thinadhoo\n",
      "337: Appending weather data for tairua\n",
      "338: Appending weather data for abadan\n",
      "339: Appending weather data for kattivakkam\n",
      "340: Appending weather data for kamphaeng phet\n",
      "341: Appending weather data for fairbanks\n",
      "342: Appending weather data for yeppoon\n",
      "343: Appending weather data for savannah bight\n",
      "344: Appending weather data for ulaangom\n",
      "----Records not found for mys shmidta----\n",
      "----Records not found for tawnat----\n",
      "345: Appending weather data for moba\n",
      "346: Appending weather data for luena\n",
      "347: Appending weather data for erdenet\n",
      "348: Appending weather data for albert lea\n",
      "349: Appending weather data for barsovo\n",
      "350: Appending weather data for poronaysk\n",
      "351: Appending weather data for caravelas\n",
      "352: Appending weather data for bintulu\n",
      "353: Appending weather data for tezu\n",
      "354: Appending weather data for komsomolskiy\n",
      "355: Appending weather data for tonota\n",
      "356: Appending weather data for rock sound\n",
      "357: Appending weather data for bambous virieux\n",
      "358: Appending weather data for grand-santi\n",
      "359: Appending weather data for azuaga\n",
      "360: Appending weather data for abu dhabi\n",
      "361: Appending weather data for djenne\n",
      "362: Appending weather data for sola\n",
      "363: Appending weather data for manggar\n",
      "364: Appending weather data for manyana\n",
      "----Records not found for tabiauea----\n",
      "365: Appending weather data for ratnagiri\n",
      "----Records not found for bac can----\n",
      "366: Appending weather data for imuris\n",
      "367: Appending weather data for sechura\n",
      "368: Appending weather data for huainan\n",
      "369: Appending weather data for cortez\n",
      "370: Appending weather data for moss vale\n",
      "371: Appending weather data for portland\n",
      "372: Appending weather data for atambua\n",
      "373: Appending weather data for palana\n",
      "374: Appending weather data for nantucket\n",
      "375: Appending weather data for maceio\n",
      "376: Appending weather data for roros\n",
      "377: Appending weather data for hervey bay\n",
      "378: Appending weather data for sikonge\n",
      "379: Appending weather data for damaturu\n",
      "380: Appending weather data for acarau\n",
      "381: Appending weather data for sibolga\n",
      "382: Appending weather data for sayansk\n",
      "----Records not found for viligili----\n",
      "383: Appending weather data for vidim\n",
      "384: Appending weather data for geraldton\n",
      "385: Appending weather data for mwanza\n",
      "386: Appending weather data for verkhoyansk\n",
      "387: Appending weather data for chumikan\n",
      "----Records not found for zolotinka----\n",
      "388: Appending weather data for conceicao da barra\n",
      "389: Appending weather data for narsaq\n",
      "390: Appending weather data for coahuayana\n",
      "391: Appending weather data for bubaque\n",
      "392: Appending weather data for erdaojiang\n",
      "393: Appending weather data for zaraza\n",
      "394: Appending weather data for vila franca do campo\n",
      "395: Appending weather data for beloha\n",
      "396: Appending weather data for sistranda\n",
      "397: Appending weather data for ierapetra\n",
      "398: Appending weather data for egvekinot\n",
      "399: Appending weather data for whitefish\n",
      "400: Appending weather data for padang\n",
      "401: Appending weather data for praia\n",
      "402: Appending weather data for pangai\n",
      "403: Appending weather data for oksfjord\n",
      "404: Appending weather data for betioky\n",
      "405: Appending weather data for alofi\n",
      "406: Appending weather data for nuevo imperial\n",
      "407: Appending weather data for sohag\n",
      "408: Appending weather data for inta\n",
      "409: Appending weather data for kailua\n",
      "410: Appending weather data for paragominas\n",
      "411: Appending weather data for bathsheba\n",
      "----Records not found for san jeronimo de tunan----\n",
      "412: Appending weather data for vao\n",
      "413: Appending weather data for baiersbronn\n",
      "414: Appending weather data for birao\n",
      "415: Appending weather data for baiyin\n",
      "416: Appending weather data for preobrazheniye\n",
      "----Records not found for kamenskoye----\n",
      "417: Appending weather data for poso\n",
      "418: Appending weather data for north bend\n",
      "419: Appending weather data for timra\n",
      "420: Appending weather data for rincon\n",
      "421: Appending weather data for samana\n",
      "422: Appending weather data for myaundzha\n",
      "423: Appending weather data for bay roberts\n",
      "424: Appending weather data for astoria\n",
      "425: Appending weather data for siocon\n",
      "426: Appending weather data for severo-kurilsk\n",
      "427: Appending weather data for prabumulih\n",
      "428: Appending weather data for kutum\n",
      "429: Appending weather data for salalah\n",
      "430: Appending weather data for cody\n",
      "431: Appending weather data for imbituba\n",
      "432: Appending weather data for sinjar\n",
      "433: Appending weather data for altay\n",
      "434: Appending weather data for petropavlovsk-kamchatskiy\n",
      "435: Appending weather data for kayiry\n",
      "436: Appending weather data for vostok\n",
      "437: Appending weather data for eureka\n",
      "438: Appending weather data for oranjestad\n",
      "439: Appending weather data for eyl\n",
      "440: Appending weather data for pisco\n",
      "441: Appending weather data for lazaro cardenas\n",
      "442: Appending weather data for mutare\n",
      "443: Appending weather data for nikki\n",
      "444: Appending weather data for kahului\n",
      "----Records not found for westpunt----\n",
      "445: Appending weather data for moussoro\n",
      "446: Appending weather data for kharitonovo\n",
      "447: Appending weather data for kolondieba\n",
      "448: Appending weather data for valparaiso\n",
      "449: Appending weather data for buarcos\n",
      "450: Appending weather data for selikhino\n",
      "451: Appending weather data for iqaluit\n",
      "452: Appending weather data for marovoay\n",
      "453: Appending weather data for mount isa\n",
      "454: Appending weather data for florence\n",
      "455: Appending weather data for severomuysk\n",
      "456: Appending weather data for mao\n",
      "457: Appending weather data for peniche\n",
      "458: Appending weather data for poum\n",
      "459: Appending weather data for ulaanbaatar\n",
      "460: Appending weather data for muzaffarpur\n",
      "461: Appending weather data for payo\n",
      "----Records not found for sentyabrskiy----\n",
      "462: Appending weather data for westport\n",
      "463: Appending weather data for vanavara\n",
      "464: Appending weather data for emba\n",
      "465: Appending weather data for rawlins\n",
      "466: Appending weather data for port hardy\n",
      "467: Appending weather data for viedma\n",
      "468: Appending weather data for kadoma\n",
      "----Records not found for samalaeulu----\n",
      "469: Appending weather data for bonavista\n",
      "470: Appending weather data for ulladulla\n",
      "471: Appending weather data for penzance\n",
      "472: Appending weather data for krasnyy profintern\n",
      "473: Appending weather data for yonezawa\n",
      "474: Appending weather data for manjeshwar\n",
      "475: Appending weather data for ginda\n",
      "476: Appending weather data for acapulco\n",
      "477: Appending weather data for kholtoson\n",
      "478: Appending weather data for shahreza\n",
      "479: Appending weather data for porto tolle\n",
      "480: Appending weather data for mangan\n",
      "481: Appending weather data for mogapi\n",
      "482: Appending weather data for miri\n",
      "483: Appending weather data for aranos\n",
      "484: Appending weather data for cayenne\n",
      "485: Appending weather data for te anau\n",
      "486: Appending weather data for kingman\n",
      "487: Appending weather data for shenjiamen\n",
      "488: Appending weather data for jiaojiang\n",
      "489: Appending weather data for lauro muller\n",
      "490: Appending weather data for camacha\n",
      "491: Appending weather data for hede\n",
      "492: Appending weather data for nivala\n",
      "----Records not found for guajara-mirim----\n",
      "493: Appending weather data for neka\n",
      "494: Appending weather data for saint-georges\n",
      "495: Appending weather data for inhambane\n",
      "496: Appending weather data for kemijarvi\n",
      "497: Appending weather data for chepareria\n",
      "498: Appending weather data for barabinsk\n",
      "499: Appending weather data for conway\n",
      "500: Appending weather data for batemans bay\n",
      "501: Appending weather data for pegnitz\n",
      "502: Appending weather data for bitkine\n",
      "503: Appending weather data for general roca\n",
      "504: Appending weather data for kushmurun\n",
      "505: Appending weather data for jinchang\n",
      "506: Appending weather data for coihaique\n",
      "507: Appending weather data for zeya\n",
      "508: Appending weather data for kilrush\n",
      "509: Appending weather data for jasper\n",
      "510: Appending weather data for tatarsk\n",
      "511: Appending weather data for neckargemund\n",
      "512: Appending weather data for sao francisco\n",
      "513: Appending weather data for andra\n",
      "514: Appending weather data for moerai\n",
      "----Records not found for ngukurr----\n",
      "515: Appending weather data for wajima\n",
      "516: Appending weather data for tilichiki\n",
      "517: Appending weather data for nador\n",
      "518: Appending weather data for katherine\n",
      "----Records not found for wulanhaote----\n",
      "519: Appending weather data for dhidhdhoo\n",
      "520: Appending weather data for bonthe\n",
      "521: Appending weather data for debre tabor\n",
      "522: Appending weather data for cabedelo\n",
      "523: Appending weather data for safford\n",
      "524: Appending weather data for karratha\n",
      "525: Appending weather data for boa vista\n",
      "526: Appending weather data for kulhudhuffushi\n",
      "527: Appending weather data for kirakira\n",
      "----Records not found for sedelnikovo----\n",
      "528: Appending weather data for shirokovskiy\n",
      "529: Appending weather data for meulaboh\n",
      "530: Appending weather data for summerside\n",
      "531: Appending weather data for matagami\n",
      "532: Appending weather data for ipira\n",
      "533: Appending weather data for luau\n",
      "534: Appending weather data for hokitika\n",
      "535: Appending weather data for roma\n",
      "536: Appending weather data for bereznik\n",
      "537: Appending weather data for lengshuitan\n",
      "538: Appending weather data for voloshka\n",
      "539: Appending weather data for tazovskiy\n",
      "540: Appending weather data for burley\n",
      "541: Appending weather data for tuatapere\n",
      "542: Appending weather data for fomboni\n",
      "543: Appending weather data for cristalina\n",
      "544: Appending weather data for bayanday\n",
      "545: Appending weather data for arvi\n",
      "546: Appending weather data for aviles\n",
      "547: Appending weather data for mangai\n",
      "548: Appending weather data for gushikawa\n",
      "549: Appending weather data for kruisfontein\n",
      "550: Appending weather data for pontianak\n",
      "551: Appending weather data for olinda\n",
      "552: Appending weather data for teknaf\n",
      "553: Appending weather data for neryungri\n",
      "554: Appending weather data for bo phloi\n",
      "555: Appending weather data for le havre\n",
      "556: Appending weather data for vagur\n",
      "557: Appending weather data for farsund\n",
      "558: Appending weather data for hualmay\n",
      "559: Appending weather data for yongan\n",
      "------------------------------\n",
      "All cities have been processed\n"
     ]
    }
   ],
   "source": [
    "# create arrays to be appended\n",
    "city_data = []\n",
    "temp = []\n",
    "hum = []\n",
    "cloud = []\n",
    "wind = []\n",
    "lat = []\n",
    "lon = []\n",
    "\n",
    "count = 0\n",
    "\n",
    "for city in cities:\n",
    "    json_response = requests.get(query_url + city).json()\n",
    "    try:\n",
    "        city_data.append(json_response['name'])\n",
    "        temp.append(json_response['main']['temp_max'])\n",
    "        hum.append(json_response['main']['humidity'])\n",
    "        cloud.append(json_response['clouds']['all'])\n",
    "        wind.append(json_response['wind']['speed'])\n",
    "        lat.append(json_response['coord']['lat'])\n",
    "        lon.append(json_response['coord']['lon'])\n",
    "        count +=1\n",
    "        print(f\"{count}: Appending weather data for {city}\")\n",
    "                \n",
    "    except KeyError:\n",
    "        print(f\"----Records not found for {city}----\")\n",
    "\n",
    "print(\"------------------------------\")        \n",
    "print(\"All cities have been processed\")\n"
   ]
  },
  {
   "cell_type": "code",
   "execution_count": 119,
   "metadata": {},
   "outputs": [
    {
     "data": {
      "text/html": [
       "<div>\n",
       "<style scoped>\n",
       "    .dataframe tbody tr th:only-of-type {\n",
       "        vertical-align: middle;\n",
       "    }\n",
       "\n",
       "    .dataframe tbody tr th {\n",
       "        vertical-align: top;\n",
       "    }\n",
       "\n",
       "    .dataframe thead th {\n",
       "        text-align: right;\n",
       "    }\n",
       "</style>\n",
       "<table border=\"1\" class=\"dataframe\">\n",
       "  <thead>\n",
       "    <tr style=\"text-align: right;\">\n",
       "      <th></th>\n",
       "      <th>City Name</th>\n",
       "      <th>Max Temperature (F)</th>\n",
       "      <th>Humidity (%)</th>\n",
       "      <th>Cloudiness (%)</th>\n",
       "      <th>Wind Speed (mph)</th>\n",
       "      <th>Latitude</th>\n",
       "      <th>Longitude</th>\n",
       "    </tr>\n",
       "  </thead>\n",
       "  <tbody>\n",
       "    <tr>\n",
       "      <th>0</th>\n",
       "      <td>New Norfolk</td>\n",
       "      <td>53.01</td>\n",
       "      <td>85</td>\n",
       "      <td>0</td>\n",
       "      <td>1.01</td>\n",
       "      <td>-42.7826</td>\n",
       "      <td>147.0587</td>\n",
       "    </tr>\n",
       "    <tr>\n",
       "      <th>1</th>\n",
       "      <td>Comodoro Rivadavia</td>\n",
       "      <td>64.40</td>\n",
       "      <td>42</td>\n",
       "      <td>0</td>\n",
       "      <td>10.36</td>\n",
       "      <td>-45.8667</td>\n",
       "      <td>-67.5000</td>\n",
       "    </tr>\n",
       "    <tr>\n",
       "      <th>2</th>\n",
       "      <td>Kang</td>\n",
       "      <td>77.07</td>\n",
       "      <td>33</td>\n",
       "      <td>5</td>\n",
       "      <td>12.82</td>\n",
       "      <td>-23.6752</td>\n",
       "      <td>22.7876</td>\n",
       "    </tr>\n",
       "    <tr>\n",
       "      <th>3</th>\n",
       "      <td>Goma</td>\n",
       "      <td>69.39</td>\n",
       "      <td>85</td>\n",
       "      <td>100</td>\n",
       "      <td>1.50</td>\n",
       "      <td>-1.6792</td>\n",
       "      <td>29.2228</td>\n",
       "    </tr>\n",
       "    <tr>\n",
       "      <th>4</th>\n",
       "      <td>Bengkulu</td>\n",
       "      <td>77.67</td>\n",
       "      <td>87</td>\n",
       "      <td>100</td>\n",
       "      <td>4.90</td>\n",
       "      <td>-3.8004</td>\n",
       "      <td>102.2655</td>\n",
       "    </tr>\n",
       "  </tbody>\n",
       "</table>\n",
       "</div>"
      ],
      "text/plain": [
       "            City Name  Max Temperature (F)  Humidity (%)  Cloudiness (%)  \\\n",
       "0         New Norfolk                53.01            85               0   \n",
       "1  Comodoro Rivadavia                64.40            42               0   \n",
       "2                Kang                77.07            33               5   \n",
       "3                Goma                69.39            85             100   \n",
       "4            Bengkulu                77.67            87             100   \n",
       "\n",
       "   Wind Speed (mph)  Latitude  Longitude  \n",
       "0              1.01  -42.7826   147.0587  \n",
       "1             10.36  -45.8667   -67.5000  \n",
       "2             12.82  -23.6752    22.7876  \n",
       "3              1.50   -1.6792    29.2228  \n",
       "4              4.90   -3.8004   102.2655  "
      ]
     },
     "execution_count": 119,
     "metadata": {},
     "output_type": "execute_result"
    }
   ],
   "source": [
    "#import data into a weather data frame\n",
    "weather_df = pd.DataFrame({\"City Name\": city_data,\n",
    "                           \"Max Temperature (F)\": temp,\n",
    "                           \"Humidity (%)\": hum,\n",
    "                           \"Cloudiness (%)\": cloud,\n",
    "                           \"Wind Speed (mph)\": wind,\n",
    "                           \"Latitude\": lat,\n",
    "                           \"Longitude\": lon})\n",
    "weather_df.head()"
   ]
  },
  {
   "cell_type": "code",
   "execution_count": 128,
   "metadata": {},
   "outputs": [
    {
     "ename": "TypeError",
     "evalue": "write() argument must be str, not DataFrame",
     "output_type": "error",
     "traceback": [
      "\u001b[1;31m---------------------------------------------------------------------------\u001b[0m",
      "\u001b[1;31mTypeError\u001b[0m                                 Traceback (most recent call last)",
      "\u001b[1;32m<ipython-input-128-83b6a6d83585>\u001b[0m in \u001b[0;36m<module>\u001b[1;34m\u001b[0m\n\u001b[0;32m      3\u001b[0m \u001b[1;33m\u001b[0m\u001b[0m\n\u001b[0;32m      4\u001b[0m \u001b[1;32mwith\u001b[0m \u001b[0mopen\u001b[0m\u001b[1;33m(\u001b[0m\u001b[0mout_put_file\u001b[0m\u001b[1;33m,\u001b[0m \u001b[1;34m'w'\u001b[0m\u001b[1;33m)\u001b[0m \u001b[1;32mas\u001b[0m \u001b[0mtxtFile\u001b[0m\u001b[1;33m:\u001b[0m\u001b[1;33m\u001b[0m\u001b[1;33m\u001b[0m\u001b[0m\n\u001b[1;32m----> 5\u001b[1;33m     \u001b[0mtxtFile\u001b[0m\u001b[1;33m.\u001b[0m\u001b[0mwrite\u001b[0m\u001b[1;33m(\u001b[0m\u001b[0mweather_df\u001b[0m\u001b[1;33m)\u001b[0m\u001b[1;33m\u001b[0m\u001b[1;33m\u001b[0m\u001b[0m\n\u001b[0m\u001b[0;32m      6\u001b[0m \u001b[1;33m\u001b[0m\u001b[0m\n\u001b[0;32m      7\u001b[0m \u001b[0mtxtFile\u001b[0m\u001b[1;33m.\u001b[0m\u001b[0mclose\u001b[0m\u001b[1;33m(\u001b[0m\u001b[1;33m)\u001b[0m\u001b[1;33m\u001b[0m\u001b[1;33m\u001b[0m\u001b[0m\n",
      "\u001b[1;31mTypeError\u001b[0m: write() argument must be str, not DataFrame"
     ]
    }
   ],
   "source": [
    "# create data file for city weather data in csv file\n",
    "out_put_file = os.path.join(\"Analysis/WeatherAPI/weather_df.txt\")\n",
    "\n",
    "with open(out_put_file, 'w') as txtFile:\n",
    "    txtFile.write(weather_df)\n",
    "\n",
    "txtFile.close()"
   ]
  },
  {
   "cell_type": "code",
   "execution_count": 129,
   "metadata": {},
   "outputs": [
    {
     "data": {
      "text/plain": [
       "City Name               object\n",
       "Max Temperature (F)    float64\n",
       "Humidity (%)             int64\n",
       "Cloudiness (%)           int64\n",
       "Wind Speed (mph)       float64\n",
       "Latitude               float64\n",
       "Longitude              float64\n",
       "dtype: object"
      ]
     },
     "execution_count": 129,
     "metadata": {},
     "output_type": "execute_result"
    }
   ],
   "source": [
    "# check data types\n",
    "weather_df.dtypes"
   ]
  },
  {
   "cell_type": "code",
   "execution_count": 130,
   "metadata": {},
   "outputs": [
    {
     "data": {
      "text/html": [
       "<div>\n",
       "<style scoped>\n",
       "    .dataframe tbody tr th:only-of-type {\n",
       "        vertical-align: middle;\n",
       "    }\n",
       "\n",
       "    .dataframe tbody tr th {\n",
       "        vertical-align: top;\n",
       "    }\n",
       "\n",
       "    .dataframe thead th {\n",
       "        text-align: right;\n",
       "    }\n",
       "</style>\n",
       "<table border=\"1\" class=\"dataframe\">\n",
       "  <thead>\n",
       "    <tr style=\"text-align: right;\">\n",
       "      <th></th>\n",
       "      <th>Max Temperature (F)</th>\n",
       "      <th>Humidity (%)</th>\n",
       "      <th>Cloudiness (%)</th>\n",
       "      <th>Wind Speed (mph)</th>\n",
       "      <th>Latitude</th>\n",
       "      <th>Longitude</th>\n",
       "    </tr>\n",
       "  </thead>\n",
       "  <tbody>\n",
       "    <tr>\n",
       "      <th>count</th>\n",
       "      <td>559.000000</td>\n",
       "      <td>559.000000</td>\n",
       "      <td>559.000000</td>\n",
       "      <td>559.000000</td>\n",
       "      <td>559.000000</td>\n",
       "      <td>559.000000</td>\n",
       "    </tr>\n",
       "    <tr>\n",
       "      <th>mean</th>\n",
       "      <td>62.509499</td>\n",
       "      <td>65.762075</td>\n",
       "      <td>55.871199</td>\n",
       "      <td>8.353131</td>\n",
       "      <td>21.994660</td>\n",
       "      <td>21.996626</td>\n",
       "    </tr>\n",
       "    <tr>\n",
       "      <th>std</th>\n",
       "      <td>21.010691</td>\n",
       "      <td>22.773049</td>\n",
       "      <td>38.449490</td>\n",
       "      <td>5.399617</td>\n",
       "      <td>33.104312</td>\n",
       "      <td>89.888517</td>\n",
       "    </tr>\n",
       "    <tr>\n",
       "      <th>min</th>\n",
       "      <td>-1.440000</td>\n",
       "      <td>2.000000</td>\n",
       "      <td>0.000000</td>\n",
       "      <td>0.650000</td>\n",
       "      <td>-54.800000</td>\n",
       "      <td>-179.166700</td>\n",
       "    </tr>\n",
       "    <tr>\n",
       "      <th>25%</th>\n",
       "      <td>47.235000</td>\n",
       "      <td>52.500000</td>\n",
       "      <td>20.000000</td>\n",
       "      <td>4.515000</td>\n",
       "      <td>-4.644600</td>\n",
       "      <td>-52.925000</td>\n",
       "    </tr>\n",
       "    <tr>\n",
       "      <th>50%</th>\n",
       "      <td>64.990000</td>\n",
       "      <td>70.000000</td>\n",
       "      <td>71.000000</td>\n",
       "      <td>6.910000</td>\n",
       "      <td>27.916700</td>\n",
       "      <td>24.076000</td>\n",
       "    </tr>\n",
       "    <tr>\n",
       "      <th>75%</th>\n",
       "      <td>78.825000</td>\n",
       "      <td>83.000000</td>\n",
       "      <td>93.500000</td>\n",
       "      <td>11.110000</td>\n",
       "      <td>49.786550</td>\n",
       "      <td>102.389850</td>\n",
       "    </tr>\n",
       "    <tr>\n",
       "      <th>max</th>\n",
       "      <td>107.960000</td>\n",
       "      <td>100.000000</td>\n",
       "      <td>100.000000</td>\n",
       "      <td>32.210000</td>\n",
       "      <td>78.218600</td>\n",
       "      <td>179.316700</td>\n",
       "    </tr>\n",
       "  </tbody>\n",
       "</table>\n",
       "</div>"
      ],
      "text/plain": [
       "       Max Temperature (F)  Humidity (%)  Cloudiness (%)  Wind Speed (mph)  \\\n",
       "count           559.000000    559.000000      559.000000        559.000000   \n",
       "mean             62.509499     65.762075       55.871199          8.353131   \n",
       "std              21.010691     22.773049       38.449490          5.399617   \n",
       "min              -1.440000      2.000000        0.000000          0.650000   \n",
       "25%              47.235000     52.500000       20.000000          4.515000   \n",
       "50%              64.990000     70.000000       71.000000          6.910000   \n",
       "75%              78.825000     83.000000       93.500000         11.110000   \n",
       "max             107.960000    100.000000      100.000000         32.210000   \n",
       "\n",
       "         Latitude   Longitude  \n",
       "count  559.000000  559.000000  \n",
       "mean    21.994660   21.996626  \n",
       "std     33.104312   89.888517  \n",
       "min    -54.800000 -179.166700  \n",
       "25%     -4.644600  -52.925000  \n",
       "50%     27.916700   24.076000  \n",
       "75%     49.786550  102.389850  \n",
       "max     78.218600  179.316700  "
      ]
     },
     "execution_count": 130,
     "metadata": {},
     "output_type": "execute_result"
    }
   ],
   "source": [
    "# describe data\n",
    "weather_df.describe()"
   ]
  },
  {
   "cell_type": "code",
   "execution_count": 131,
   "metadata": {},
   "outputs": [
    {
     "data": {
      "image/png": "[encoded data removed]",
      "text/plain": [
       "<Figure size 432x288 with 1 Axes>"
      ]
     },
     "metadata": {
      "needs_background": "light"
     },
     "output_type": "display_data"
    },
    {
     "name": "stdout",
     "output_type": "stream",
     "text": [
      "According to the scatterplot, cities that are closer to the equator,\n",
      "have a higher temperature than cities that are further away from the equator.\n"
     ]
    }
   ],
   "source": [
    "#create scatter pluts comparing temp and lat\n",
    "plt.scatter(weather_df[\"Max Temperature (F)\"], weather_df[\"Latitude\"])\n",
    "plt.title(\"Max Temperature (F) vs. Latitude\")\n",
    "plt.xlabel(\"Max Temperature (F)\")\n",
    "plt.ylabel(\"Latitude\")\n",
    "plt.grid(True)\n",
    "\n",
    "# save figure\n",
    "plt.savefig(\"Analysis/WeatherAPI/tempvslat.png\")\n",
    "\n",
    "plt.show()\n",
    "print(\"According to the scatterplot, cities that are closer to the equator,\")\n",
    "print(\"have a higher temperature than cities that are further away from the equator.\")"
   ]
  },
  {
   "cell_type": "code",
   "execution_count": 132,
   "metadata": {},
   "outputs": [
    {
     "data": {
      "image/png": "[encoded data removed]",
      "text/plain": [
       "<Figure size 432x288 with 1 Axes>"
      ]
     },
     "metadata": {
      "needs_background": "light"
     },
     "output_type": "display_data"
    },
    {
     "name": "stdout",
     "output_type": "stream",
     "text": [
      "According to the scatterplot, there humidity ranges widely depending on your location.\n",
      "There is no clear direct relation shown.\n",
      "There is a stronger cluster of citied with high humidity overall, however they are spread evenly between distances from the equator.\n",
      "There are fewer cities with humidity below 50%, and they tend to be in the northern hemisphere and are at or below 40 degrees lat.\n"
     ]
    }
   ],
   "source": [
    "#create scatter pluts comparing hum vs lat\n",
    "plt.scatter(weather_df[\"Humidity (%)\"], weather_df[\"Latitude\"])\n",
    "plt.title(\"Humidity (%) vs. Latitude\")\n",
    "plt.xlabel(\"Humidity (%)\")\n",
    "plt.ylabel(\"Latitude\")\n",
    "plt.grid(True)\n",
    "\n",
    "# save figure\n",
    "plt.savefig(\"Analysis/WeatherAPI/humvslat.png\")\n",
    "\n",
    "plt.show()\n",
    "print(\"According to the scatterplot, there humidity ranges widely depending on your location.\")\n",
    "print(\"There is no clear direct relation shown.\")\n",
    "print(\"There is a stronger cluster of citied with high humidity overall, however they are spread evenly between distances from the equator.\")\n",
    "print(\"There are fewer cities with humidity below 50%, and they tend to be in the northern hemisphere and are at or below 40 degrees lat.\")"
   ]
  },
  {
   "cell_type": "code",
   "execution_count": 133,
   "metadata": {},
   "outputs": [
    {
     "data": {
      "image/png": "[encoded data removed]",
      "text/plain": [
       "<Figure size 432x288 with 1 Axes>"
      ]
     },
     "metadata": {
      "needs_background": "light"
     },
     "output_type": "display_data"
    },
    {
     "name": "stdout",
     "output_type": "stream",
     "text": [
      "According to the scatterplot, there is no apparent correlation betwen latitude and coudiness.\n",
      "The distribution is even across all lattitues\n"
     ]
    }
   ],
   "source": [
    "#create scatter pluts comparing cloud vs lat\n",
    "plt.scatter(weather_df[\"Cloudiness (%)\"], weather_df[\"Latitude\"])\n",
    "plt.title(\"Cloudiness (%) vs. Latitude\")\n",
    "plt.xlabel(\"Cloudiness (%)\")\n",
    "plt.ylabel(\"Latitude\")\n",
    "plt.grid(True)\n",
    "\n",
    "# save figure\n",
    "plt.savefig(\"Analysis/WeatherAPI/cloudvslat.png\")\n",
    "\n",
    "plt.show()\n",
    "print(\"According to the scatterplot, there is no apparent correlation betwen latitude and coudiness.\")\n",
    "print(\"The distribution is even across all lattitues\")"
   ]
  },
  {
   "cell_type": "code",
   "execution_count": 136,
   "metadata": {},
   "outputs": [
    {
     "data": {
      "image/png": "[encoded data removed]",
      "text/plain": [
       "<Figure size 432x288 with 1 Axes>"
      ]
     },
     "metadata": {
      "needs_background": "light"
     },
     "output_type": "display_data"
    },
    {
     "name": "stdout",
     "output_type": "stream",
     "text": [
      "According to the scatterplot, wind speed overall is does not exceed 15 mph for the majority of the cities.\n",
      "There appears to be a higher cluster of cities in the northeren hemisphere that have wind speeds\n",
      "between 0 mph and 10 mph when compared to the southern hemisphere as a whole\n"
     ]
    }
   ],
   "source": [
    "#create scatter pluts comparing wind speed vs lat\n",
    "plt.scatter(weather_df[\"Wind Speed (mph)\"], weather_df[\"Latitude\"])\n",
    "plt.title(\"Wind Speed (mph) vs. Latitude\")\n",
    "plt.xlabel(\"Wind Speed (mph)\")\n",
    "plt.ylabel(\"Latitude\")\n",
    "plt.grid(True)\n",
    "\n",
    "# save figure\n",
    "plt.savefig(\"Analysis/WeatherAPI/windvslat.png\")\n",
    "\n",
    "plt.show()\n",
    "print(\"According to the scatterplot, wind speed overall is does not exceed 15 mph for the majority of the cities.\")\n",
    "print(\"There appears to be a higher cluster of cities in the northeren hemisphere that have wind speeds\")\n",
    "print(\"between 0 mph and 10 mph when compared to the southern hemisphere as a whole\")"
   ]
  },
  {
   "cell_type": "code",
   "execution_count": 138,
   "metadata": {},
   "outputs": [
    {
     "data": {
      "text/html": [
       "<div>\n",
       "<style scoped>\n",
       "    .dataframe tbody tr th:only-of-type {\n",
       "        vertical-align: middle;\n",
       "    }\n",
       "\n",
       "    .dataframe tbody tr th {\n",
       "        vertical-align: top;\n",
       "    }\n",
       "\n",
       "    .dataframe thead th {\n",
       "        text-align: right;\n",
       "    }\n",
       "</style>\n",
       "<table border=\"1\" class=\"dataframe\">\n",
       "  <thead>\n",
       "    <tr style=\"text-align: right;\">\n",
       "      <th></th>\n",
       "      <th>City Name</th>\n",
       "      <th>Max Temperature (F)</th>\n",
       "      <th>Humidity (%)</th>\n",
       "      <th>Cloudiness (%)</th>\n",
       "      <th>Wind Speed (mph)</th>\n",
       "      <th>Latitude</th>\n",
       "      <th>Longitude</th>\n",
       "    </tr>\n",
       "  </thead>\n",
       "  <tbody>\n",
       "    <tr>\n",
       "      <th>5</th>\n",
       "      <td>Kapaa</td>\n",
       "      <td>71.60</td>\n",
       "      <td>83</td>\n",
       "      <td>90</td>\n",
       "      <td>16.11</td>\n",
       "      <td>22.0752</td>\n",
       "      <td>-159.3190</td>\n",
       "    </tr>\n",
       "    <tr>\n",
       "      <th>8</th>\n",
       "      <td>Albany</td>\n",
       "      <td>54.00</td>\n",
       "      <td>75</td>\n",
       "      <td>100</td>\n",
       "      <td>1.01</td>\n",
       "      <td>42.6001</td>\n",
       "      <td>-73.9662</td>\n",
       "    </tr>\n",
       "    <tr>\n",
       "      <th>9</th>\n",
       "      <td>Tasiilaq</td>\n",
       "      <td>32.00</td>\n",
       "      <td>64</td>\n",
       "      <td>20</td>\n",
       "      <td>14.97</td>\n",
       "      <td>65.6145</td>\n",
       "      <td>-37.6368</td>\n",
       "    </tr>\n",
       "    <tr>\n",
       "      <th>12</th>\n",
       "      <td>Visby</td>\n",
       "      <td>50.00</td>\n",
       "      <td>52</td>\n",
       "      <td>0</td>\n",
       "      <td>8.05</td>\n",
       "      <td>57.6409</td>\n",
       "      <td>18.2960</td>\n",
       "    </tr>\n",
       "    <tr>\n",
       "      <th>13</th>\n",
       "      <td>Shingū</td>\n",
       "      <td>56.05</td>\n",
       "      <td>76</td>\n",
       "      <td>0</td>\n",
       "      <td>6.06</td>\n",
       "      <td>33.7333</td>\n",
       "      <td>135.9833</td>\n",
       "    </tr>\n",
       "  </tbody>\n",
       "</table>\n",
       "</div>"
      ],
      "text/plain": [
       "   City Name  Max Temperature (F)  Humidity (%)  Cloudiness (%)  \\\n",
       "5      Kapaa                71.60            83              90   \n",
       "8     Albany                54.00            75             100   \n",
       "9   Tasiilaq                32.00            64              20   \n",
       "12     Visby                50.00            52               0   \n",
       "13    Shingū                56.05            76               0   \n",
       "\n",
       "    Wind Speed (mph)  Latitude  Longitude  \n",
       "5              16.11   22.0752  -159.3190  \n",
       "8               1.01   42.6001   -73.9662  \n",
       "9              14.97   65.6145   -37.6368  \n",
       "12              8.05   57.6409    18.2960  \n",
       "13              6.06   33.7333   135.9833  "
      ]
     },
     "execution_count": 138,
     "metadata": {},
     "output_type": "execute_result"
    }
   ],
   "source": [
    "# create new df to spilt the n and s hemispheres\n",
    "northern_df = weather_df.loc[weather_df[\"Latitude\"] >= 0, :]\n",
    "southern_df = weather_df.loc[weather_df[\"Latitude\"] < 0, :]\n",
    "northern_df.head()"
   ]
  },
  {
   "cell_type": "code",
   "execution_count": 139,
   "metadata": {},
   "outputs": [
    {
     "data": {
      "text/html": [
       "<div>\n",
       "<style scoped>\n",
       "    .dataframe tbody tr th:only-of-type {\n",
       "        vertical-align: middle;\n",
       "    }\n",
       "\n",
       "    .dataframe tbody tr th {\n",
       "        vertical-align: top;\n",
       "    }\n",
       "\n",
       "    .dataframe thead th {\n",
       "        text-align: right;\n",
       "    }\n",
       "</style>\n",
       "<table border=\"1\" class=\"dataframe\">\n",
       "  <thead>\n",
       "    <tr style=\"text-align: right;\">\n",
       "      <th></th>\n",
       "      <th>City Name</th>\n",
       "      <th>Max Temperature (F)</th>\n",
       "      <th>Humidity (%)</th>\n",
       "      <th>Cloudiness (%)</th>\n",
       "      <th>Wind Speed (mph)</th>\n",
       "      <th>Latitude</th>\n",
       "      <th>Longitude</th>\n",
       "    </tr>\n",
       "  </thead>\n",
       "  <tbody>\n",
       "    <tr>\n",
       "      <th>0</th>\n",
       "      <td>New Norfolk</td>\n",
       "      <td>53.01</td>\n",
       "      <td>85</td>\n",
       "      <td>0</td>\n",
       "      <td>1.01</td>\n",
       "      <td>-42.7826</td>\n",
       "      <td>147.0587</td>\n",
       "    </tr>\n",
       "    <tr>\n",
       "      <th>1</th>\n",
       "      <td>Comodoro Rivadavia</td>\n",
       "      <td>64.40</td>\n",
       "      <td>42</td>\n",
       "      <td>0</td>\n",
       "      <td>10.36</td>\n",
       "      <td>-45.8667</td>\n",
       "      <td>-67.5000</td>\n",
       "    </tr>\n",
       "    <tr>\n",
       "      <th>2</th>\n",
       "      <td>Kang</td>\n",
       "      <td>77.07</td>\n",
       "      <td>33</td>\n",
       "      <td>5</td>\n",
       "      <td>12.82</td>\n",
       "      <td>-23.6752</td>\n",
       "      <td>22.7876</td>\n",
       "    </tr>\n",
       "    <tr>\n",
       "      <th>3</th>\n",
       "      <td>Goma</td>\n",
       "      <td>69.39</td>\n",
       "      <td>85</td>\n",
       "      <td>100</td>\n",
       "      <td>1.50</td>\n",
       "      <td>-1.6792</td>\n",
       "      <td>29.2228</td>\n",
       "    </tr>\n",
       "    <tr>\n",
       "      <th>4</th>\n",
       "      <td>Bengkulu</td>\n",
       "      <td>77.67</td>\n",
       "      <td>87</td>\n",
       "      <td>100</td>\n",
       "      <td>4.90</td>\n",
       "      <td>-3.8004</td>\n",
       "      <td>102.2655</td>\n",
       "    </tr>\n",
       "  </tbody>\n",
       "</table>\n",
       "</div>"
      ],
      "text/plain": [
       "            City Name  Max Temperature (F)  Humidity (%)  Cloudiness (%)  \\\n",
       "0         New Norfolk                53.01            85               0   \n",
       "1  Comodoro Rivadavia                64.40            42               0   \n",
       "2                Kang                77.07            33               5   \n",
       "3                Goma                69.39            85             100   \n",
       "4            Bengkulu                77.67            87             100   \n",
       "\n",
       "   Wind Speed (mph)  Latitude  Longitude  \n",
       "0              1.01  -42.7826   147.0587  \n",
       "1             10.36  -45.8667   -67.5000  \n",
       "2             12.82  -23.6752    22.7876  \n",
       "3              1.50   -1.6792    29.2228  \n",
       "4              4.90   -3.8004   102.2655  "
      ]
     },
     "execution_count": 139,
     "metadata": {},
     "output_type": "execute_result"
    }
   ],
   "source": [
    "southern_df.head()"
   ]
  },
  {
   "cell_type": "code",
   "execution_count": 164,
   "metadata": {},
   "outputs": [
    {
     "data": {
      "image/png": "[encoded data removed]",
      "text/plain": [
       "<Figure size 432x288 with 1 Axes>"
      ]
     },
     "metadata": {
      "needs_background": "light"
     },
     "output_type": "display_data"
    },
    {
     "name": "stdout",
     "output_type": "stream",
     "text": [
      "There is a strong correlation between temperature and latitude.  As latitude increases, temperature decreases\n",
      "This means there is a higher temperature for cities closer to the equator in the northern hemisphere\n"
     ]
    },
    {
     "data": {
      "text/plain": [
       "<Figure size 432x288 with 0 Axes>"
      ]
     },
     "metadata": {},
     "output_type": "display_data"
    }
   ],
   "source": [
    "# nh- temp v lat\n",
    "x_values = northern_df[\"Latitude\"]\n",
    "y_values = northern_df[\"Max Temperature (F)\"]\n",
    "(slope, intercept, rvalue, pvalue, stderr) = linregress(x_values, y_values)\n",
    "regress_values = x_values * slope + intercept\n",
    "line_eq = \"y = \" + str(round(slope,2)) + \"x + \" + str(round(intercept,2))\n",
    "plt.scatter(x_values,y_values)\n",
    "plt.plot(x_values,regress_values,\"r-\")\n",
    "plt.annotate(line_eq,(6,10),fontsize=15,color=\"red\")\n",
    "plt.title(\"Northern Hemisphere Latitude vs. Max Temperature (F)\")\n",
    "plt.xlabel(\"Latitude\")\n",
    "plt.ylabel(\"Max Temperature (F)\")\n",
    "plt.show()\n",
    "\n",
    "# save figure\n",
    "plt.savefig(\"Analysis/WeatherAPI/nh_temp_v_lat.png\")\n",
    "\n",
    "print(\"There is a strong correlation between temperature and latitude.  As latitude increases, temperature decreases\")\n",
    "print(\"This means there is a higher temperature for cities closer to the equator in the northern hemisphere\")"
   ]
  },
  {
   "cell_type": "code",
   "execution_count": 165,
   "metadata": {},
   "outputs": [
    {
     "data": {
      "image/png": "[encoded data removed]",
      "text/plain": [
       "<Figure size 432x288 with 1 Axes>"
      ]
     },
     "metadata": {
      "needs_background": "light"
     },
     "output_type": "display_data"
    },
    {
     "name": "stdout",
     "output_type": "stream",
     "text": [
      "There is a strong correlation between temperature and latitude.  As latitude decreases, temperature decreases as well\n",
      "This means there is a lowr temperature for cities further away from to the equator in the southern hemisphere.\n"
     ]
    },
    {
     "data": {
      "text/plain": [
       "<Figure size 432x288 with 0 Axes>"
      ]
     },
     "metadata": {},
     "output_type": "display_data"
    }
   ],
   "source": [
    "# sh- temp v lat\n",
    "x_values = southern_df[\"Latitude\"]\n",
    "y_values = southern_df[\"Max Temperature (F)\"]\n",
    "(slope, intercept, rvalue, pvalue, stderr) = linregress(x_values, y_values)\n",
    "regress_values = x_values * slope + intercept\n",
    "line_eq = \"y = \" + str(round(slope,2)) + \"x + \" + str(round(intercept,2))\n",
    "plt.scatter(x_values,y_values)\n",
    "plt.plot(x_values,regress_values,\"r-\")\n",
    "plt.annotate(line_eq,(6,10),fontsize=15,color=\"red\")\n",
    "plt.title(\"Southern Hemisphere Latitude vs. Max Temperature (F)\")\n",
    "plt.xlabel(\"Latitude\")\n",
    "plt.ylabel(\"Max Temperature (F)\")\n",
    "plt.show()\n",
    "\n",
    "# save figure\n",
    "plt.savefig(\"Analysis/WeatherAPI/sh_temp_v_lat.png\")\n",
    "\n",
    "print(\"There is a strong correlation between temperature and latitude.  As latitude decreases, temperature decreases as well\")\n",
    "print(\"This means there is a lowr temperature for cities further away from to the equator in the southern hemisphere.\")"
   ]
  },
  {
   "cell_type": "code",
   "execution_count": 169,
   "metadata": {},
   "outputs": [
    {
     "data": {
      "image/png": "[encoded data removed]",
      "text/plain": [
       "<Figure size 432x288 with 1 Axes>"
      ]
     },
     "metadata": {
      "needs_background": "light"
     },
     "output_type": "display_data"
    },
    {
     "name": "stdout",
     "output_type": "stream",
     "text": [
      "There is a weak correlation between latitude and humidity.  However, cities closer to the equator are more likely to have high humidity.\n"
     ]
    },
    {
     "data": {
      "text/plain": [
       "<Figure size 432x288 with 0 Axes>"
      ]
     },
     "metadata": {},
     "output_type": "display_data"
    }
   ],
   "source": [
    "# nh- hum v lat\n",
    "x_values = northern_df[\"Latitude\"]\n",
    "y_values = northern_df[\"Humidity (%)\"]\n",
    "(slope, intercept, rvalue, pvalue, stderr) = linregress(x_values, y_values)\n",
    "regress_values = x_values * slope + intercept\n",
    "line_eq = \"y = \" + str(round(slope,2)) + \"x + \" + str(round(intercept,2))\n",
    "plt.scatter(x_values,y_values)\n",
    "plt.plot(x_values,regress_values,\"r-\")\n",
    "plt.annotate(line_eq,(6,10),fontsize=15,color=\"red\")\n",
    "plt.title(\"Northern Hemisphere Latitude vs. Humidity (%)\")\n",
    "plt.xlabel(\"Latitude\")\n",
    "plt.ylabel(\"Humidity (%)\")\n",
    "plt.show()\n",
    "\n",
    "# save figure\n",
    "plt.savefig(\"Analysis/WeatherAPI/nh_hum_v_lat.png\")\n",
    "\n",
    "print(\"There is a weak correlation between latitude and humidity.  However, cities closer to the equator are more likely to have high humidity.\")"
   ]
  },
  {
   "cell_type": "code",
   "execution_count": 170,
   "metadata": {},
   "outputs": [
    {
     "data": {
      "image/png": "[encoded data removed]",
      "text/plain": [
       "<Figure size 432x288 with 1 Axes>"
      ]
     },
     "metadata": {
      "needs_background": "light"
     },
     "output_type": "display_data"
    },
    {
     "name": "stdout",
     "output_type": "stream",
     "text": [
      "There is a very weak if any correlation between latitude and humidity. However cities that are cloder to the equator are more likely to have high humidity than low.\n",
      "Cities that are between -30 and -20 latitudes are evenly spread between low and high humidity\n"
     ]
    },
    {
     "data": {
      "text/plain": [
       "<Figure size 432x288 with 0 Axes>"
      ]
     },
     "metadata": {},
     "output_type": "display_data"
    }
   ],
   "source": [
    "# sh- hum v lat\n",
    "x_values = southern_df[\"Latitude\"]\n",
    "y_values = southern_df[\"Humidity (%)\"]\n",
    "(slope, intercept, rvalue, pvalue, stderr) = linregress(x_values, y_values)\n",
    "regress_values = x_values * slope + intercept\n",
    "line_eq = \"y = \" + str(round(slope,2)) + \"x + \" + str(round(intercept,2))\n",
    "plt.scatter(x_values,y_values)\n",
    "plt.plot(x_values,regress_values,\"r-\")\n",
    "plt.annotate(line_eq,(6,10),fontsize=15,color=\"red\")\n",
    "plt.title(\"Southern Hemisphere Latitude vs. Humidity (%)\")\n",
    "plt.xlabel(\"Latitude\")\n",
    "plt.ylabel(\"Humidity (%)\")\n",
    "plt.show()\n",
    "\n",
    "# save figure\n",
    "plt.savefig(\"Analysis/WeatherAPI/sh_hum_v_lat.png\")\n",
    "\n",
    "print(\"There is a very weak if any correlation between latitude and humidity. However cities that are cloder to the equator are more likely to have high humidity than low.\")\n",
    "print(\"Cities that are between -30 and -20 latitudes are evenly spread between low and high humidity\")"
   ]
  },
  {
   "cell_type": "code",
   "execution_count": 173,
   "metadata": {},
   "outputs": [
    {
     "name": "stdout",
     "output_type": "stream",
     "text": [
      "There is no correlation between cloudiness and latitude in the northern hemisphere\n"
     ]
    },
    {
     "data": {
      "image/png": "[encoded data removed]",
      "text/plain": [
       "<Figure size 432x288 with 1 Axes>"
      ]
     },
     "metadata": {
      "needs_background": "light"
     },
     "output_type": "display_data"
    }
   ],
   "source": [
    "# nh- hum v lat\n",
    "x_values = northern_df[\"Latitude\"]\n",
    "y_values = northern_df[\"Cloudiness (%)\"]\n",
    "(slope, intercept, rvalue, pvalue, stderr) = linregress(x_values, y_values)\n",
    "regress_values = x_values * slope + intercept\n",
    "line_eq = \"y = \" + str(round(slope,2)) + \"x + \" + str(round(intercept,2))\n",
    "plt.scatter(x_values,y_values)\n",
    "plt.plot(x_values,regress_values,\"r-\")\n",
    "plt.annotate(line_eq,(6,10),fontsize=15,color=\"red\")\n",
    "plt.title(\"Northern Hemisphere Latitude vs. Cloudiness (%)\")\n",
    "plt.xlabel(\"Latitude\")\n",
    "plt.ylabel(\"Cloudiness (%)\")\n",
    "plt.show()\n",
    "\n",
    "# save figure\n",
    "plt.savefig(\"Analysis/WeatherAPI/nh_cloud_v_lat.png\")\n",
    "\n",
    "print(\"There is no correlation between cloudiness and latitude in the northern hemisphere\")"
   ]
  },
  {
   "cell_type": "code",
   "execution_count": 175,
   "metadata": {},
   "outputs": [
    {
     "data": {
      "image/png": "[encoded data removed]",
      "text/plain": [
       "<Figure size 432x288 with 1 Axes>"
      ]
     },
     "metadata": {
      "needs_background": "light"
     },
     "output_type": "display_data"
    },
    {
     "name": "stdout",
     "output_type": "stream",
     "text": [
      "There is no correlation between cloudiness and latitude in the southern hemisphere\n"
     ]
    },
    {
     "data": {
      "text/plain": [
       "<Figure size 432x288 with 0 Axes>"
      ]
     },
     "metadata": {},
     "output_type": "display_data"
    }
   ],
   "source": [
    "# sh- hum v lat\n",
    "x_values = southern_df[\"Latitude\"]\n",
    "y_values = southern_df[\"Cloudiness (%)\"]\n",
    "(slope, intercept, rvalue, pvalue, stderr) = linregress(x_values, y_values)\n",
    "regress_values = x_values * slope + intercept\n",
    "line_eq = \"y = \" + str(round(slope,2)) + \"x + \" + str(round(intercept,2))\n",
    "plt.scatter(x_values,y_values)\n",
    "plt.plot(x_values,regress_values,\"r-\")\n",
    "plt.annotate(line_eq,(6,10),fontsize=15,color=\"red\")\n",
    "plt.title(\"Southern Hemisphere Latitude vs. Cloudiness (%)\")\n",
    "plt.xlabel(\"Latitude\")\n",
    "plt.ylabel(\"Cloudiness (%)\")\n",
    "plt.show()\n",
    "\n",
    "# save figure\n",
    "plt.savefig(\"Analysis/WeatherAPI/sh_cloud_v_lat.png\")\n",
    "\n",
    "print(\"There is no correlation between cloudiness and latitude in the southern hemisphere\")"
   ]
  },
  {
   "cell_type": "code",
   "execution_count": 178,
   "metadata": {},
   "outputs": [
    {
     "data": {
      "image/png": "[encoded data removed]",
      "text/plain": [
       "<Figure size 432x288 with 1 Axes>"
      ]
     },
     "metadata": {
      "needs_background": "light"
     },
     "output_type": "display_data"
    },
    {
     "name": "stdout",
     "output_type": "stream",
     "text": [
      "Overall city wind speeds are below 15 mph whether the city is close to the equator or further away.\n",
      "There is no correlation between wind speed and latitude as the data is evenly distributed in the northern hemisphere.\n"
     ]
    },
    {
     "data": {
      "text/plain": [
       "<Figure size 432x288 with 0 Axes>"
      ]
     },
     "metadata": {},
     "output_type": "display_data"
    }
   ],
   "source": [
    "# nh- wind v lat\n",
    "x_values = northern_df[\"Latitude\"]\n",
    "y_values = northern_df[\"Wind Speed (mph)\"]\n",
    "(slope, intercept, rvalue, pvalue, stderr) = linregress(x_values, y_values)\n",
    "regress_values = x_values * slope + intercept\n",
    "line_eq = \"y = \" + str(round(slope,2)) + \"x + \" + str(round(intercept,2))\n",
    "plt.scatter(x_values,y_values)\n",
    "plt.plot(x_values,regress_values,\"r-\")\n",
    "plt.annotate(line_eq,(6,10),fontsize=15,color=\"red\")\n",
    "plt.title(\"Northern Hemisphere Latitude vs. Wind Speed (mph))\")\n",
    "plt.xlabel(\"Latitude\")\n",
    "plt.ylabel(\"Wind Speed (mph)\")\n",
    "plt.show()\n",
    "\n",
    "# save figure\n",
    "plt.savefig(\"Analysis/WeatherAPI/nh_wind_v_lat.png\")\n",
    "\n",
    "print(\"Overall city wind speeds are below 15 mph whether the city is close to the equator or further away.\")\n",
    "print(\"There is no correlation between wind speed and latitude as the data is evenly distributed in the northern hemisphere.\")"
   ]
  },
  {
   "cell_type": "code",
   "execution_count": 179,
   "metadata": {},
   "outputs": [
    {
     "data": {
      "image/png": "[encoded data removed]",
      "text/plain": [
       "<Figure size 432x288 with 1 Axes>"
      ]
     },
     "metadata": {
      "needs_background": "light"
     },
     "output_type": "display_data"
    },
    {
     "name": "stdout",
     "output_type": "stream",
     "text": [
      "Overall city wind speeds are below 15 mph whether the city is close to the equator or further away.\n",
      "There is no correlation between wind speed and latitude as the data is evenly distributed in the southern hemisphere.\n"
     ]
    },
    {
     "data": {
      "text/plain": [
       "<Figure size 432x288 with 0 Axes>"
      ]
     },
     "metadata": {},
     "output_type": "display_data"
    }
   ],
   "source": [
    "# sh- wind v lat\n",
    "x_values = southern_df[\"Latitude\"]\n",
    "y_values = southern_df[\"Wind Speed (mph)\"]\n",
    "(slope, intercept, rvalue, pvalue, stderr) = linregress(x_values, y_values)\n",
    "regress_values = x_values * slope + intercept\n",
    "line_eq = \"y = \" + str(round(slope,2)) + \"x + \" + str(round(intercept,2))\n",
    "plt.scatter(x_values,y_values)\n",
    "plt.plot(x_values,regress_values,\"r-\")\n",
    "plt.annotate(line_eq,(6,10),fontsize=15,color=\"red\")\n",
    "plt.title(\"Southern Hemisphere Latitude vs. Wind Speed (mph))\")\n",
    "plt.xlabel(\"Latitude\")\n",
    "plt.ylabel(\"Wind Speed (mph)\")\n",
    "plt.show()\n",
    "\n",
    "# save figure\n",
    "plt.savefig(\"Analysis/WeatherAPI/sh_wind_v_lat.png\")\n",
    "\n",
    "print(\"Overall city wind speeds are below 15 mph whether the city is close to the equator or further away.\")\n",
    "print(\"There is no correlation between wind speed and latitude as the data is evenly distributed in the southern hemisphere.\")"
   ]
  },
  {
   "cell_type": "code",
   "execution_count": null,
   "metadata": {},
   "outputs": [],
   "source": []
  }
 ],
 "metadata": {
  "kernelspec": {
   "display_name": "Python 3",
   "language": "python",
   "name": "python3"
  },
  "language_info": {
   "codemirror_mode": {
    "name": "ipython",
    "version": 3
   },
   "file_extension": ".py",
   "mimetype": "text/x-python",
   "name": "python",
   "nbconvert_exporter": "python",
   "pygments_lexer": "ipython3",
   "version": "3.8.5"
  }
 },
 "nbformat": 4,
 "nbformat_minor": 4
}
